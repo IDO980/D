{
 "cells": [
  {
   "cell_type": "code",
   "execution_count": 24,
   "outputs": [],
   "source": [
    "import pandas as pd\n",
    "import numpy as np\n",
    "import pylab as plt"
   ],
   "metadata": {
    "collapsed": false,
    "pycharm": {
     "name": "#%%\n"
    }
   }
  },
  {
   "cell_type": "code",
   "execution_count": 25,
   "outputs": [
    {
     "data": {
      "text/plain": "    0   1    2    3\n0   A  高钾   蓝绿  无风化\n1   A  高钾   蓝绿  无风化\n2   A  高钾   蓝绿  无风化\n3   A  高钾   蓝绿  无风化\n4   A  高钾   深蓝  无风化\n5   A  高钾   蓝绿  无风化\n6   B  高钾   蓝绿   风化\n7   B  高钾   蓝绿   风化\n8   B  高钾   蓝绿   风化\n9   B  高钾   蓝绿   风化\n10  B  高钾   蓝绿   风化\n11  B  高钾   蓝绿   风化\n12  C  高钾   蓝绿  无风化\n13  C  高钾   浅蓝  无风化\n14  C  高钾   深绿  无风化\n15  C  高钾   浅蓝  无风化\n16  C  高钾   浅蓝  无风化\n17  C  高钾   浅蓝  无风化\n18  A  铅钡   浅蓝   风化\n19  A  铅钡  NaN   风化\n20  A  铅钡   浅蓝  无风化\n21  A  铅钡   蓝绿   风化\n22  A  铅钡   浅蓝   风化\n23  A  铅钡   浅蓝   风化\n24  A  铅钡   深蓝  无风化\n25  A  铅钡   浅蓝   风化\n26  A  铅钡   浅蓝   风化\n27  A  铅钡   浅蓝  无风化\n28  A  铅钡   浅蓝  无风化\n29  A  铅钡   浅蓝  无风化\n30  A  铅钡  NaN   风化\n31  A  铅钡    黑   风化\n32  A  铅钡    黑   风化\n33  A  铅钡   浅蓝   风化\n34  C  铅钡    紫   风化\n35  C  铅钡   浅蓝   风化\n36  C  铅钡    紫  无风化\n37  C  铅钡   浅蓝   风化\n38  C  铅钡    紫   风化\n39  C  铅钡    紫  无风化\n40  C  铅钡   浅绿  无风化\n41  C  铅钡   深绿  无风化\n42  C  铅钡   深绿   风化\n43  C  铅钡   浅绿  无风化\n44  C  铅钡   深绿   风化\n45  C  铅钡   深绿  无风化\n46  C  铅钡   深绿   风化\n47  C  铅钡   深绿   风化\n48  C  铅钡  NaN   风化\n49  C  铅钡   浅绿   风化\n50  C  铅钡   浅蓝   风化\n51  C  铅钡   浅蓝   风化\n52  C  铅钡   浅蓝   风化\n53  C  铅钡   浅蓝   风化\n54  C  铅钡    绿  无风化\n55  C  铅钡   蓝绿   风化\n56  C  铅钡   蓝绿   风化\n57  C  铅钡  NaN   风化",
      "text/html": "<div>\n<style scoped>\n    .dataframe tbody tr th:only-of-type {\n        vertical-align: middle;\n    }\n\n    .dataframe tbody tr th {\n        vertical-align: top;\n    }\n\n    .dataframe thead th {\n        text-align: right;\n    }\n</style>\n<table border=\"1\" class=\"dataframe\">\n  <thead>\n    <tr style=\"text-align: right;\">\n      <th></th>\n      <th>0</th>\n      <th>1</th>\n      <th>2</th>\n      <th>3</th>\n    </tr>\n  </thead>\n  <tbody>\n    <tr>\n      <th>0</th>\n      <td>A</td>\n      <td>高钾</td>\n      <td>蓝绿</td>\n      <td>无风化</td>\n    </tr>\n    <tr>\n      <th>1</th>\n      <td>A</td>\n      <td>高钾</td>\n      <td>蓝绿</td>\n      <td>无风化</td>\n    </tr>\n    <tr>\n      <th>2</th>\n      <td>A</td>\n      <td>高钾</td>\n      <td>蓝绿</td>\n      <td>无风化</td>\n    </tr>\n    <tr>\n      <th>3</th>\n      <td>A</td>\n      <td>高钾</td>\n      <td>蓝绿</td>\n      <td>无风化</td>\n    </tr>\n    <tr>\n      <th>4</th>\n      <td>A</td>\n      <td>高钾</td>\n      <td>深蓝</td>\n      <td>无风化</td>\n    </tr>\n    <tr>\n      <th>5</th>\n      <td>A</td>\n      <td>高钾</td>\n      <td>蓝绿</td>\n      <td>无风化</td>\n    </tr>\n    <tr>\n      <th>6</th>\n      <td>B</td>\n      <td>高钾</td>\n      <td>蓝绿</td>\n      <td>风化</td>\n    </tr>\n    <tr>\n      <th>7</th>\n      <td>B</td>\n      <td>高钾</td>\n      <td>蓝绿</td>\n      <td>风化</td>\n    </tr>\n    <tr>\n      <th>8</th>\n      <td>B</td>\n      <td>高钾</td>\n      <td>蓝绿</td>\n      <td>风化</td>\n    </tr>\n    <tr>\n      <th>9</th>\n      <td>B</td>\n      <td>高钾</td>\n      <td>蓝绿</td>\n      <td>风化</td>\n    </tr>\n    <tr>\n      <th>10</th>\n      <td>B</td>\n      <td>高钾</td>\n      <td>蓝绿</td>\n      <td>风化</td>\n    </tr>\n    <tr>\n      <th>11</th>\n      <td>B</td>\n      <td>高钾</td>\n      <td>蓝绿</td>\n      <td>风化</td>\n    </tr>\n    <tr>\n      <th>12</th>\n      <td>C</td>\n      <td>高钾</td>\n      <td>蓝绿</td>\n      <td>无风化</td>\n    </tr>\n    <tr>\n      <th>13</th>\n      <td>C</td>\n      <td>高钾</td>\n      <td>浅蓝</td>\n      <td>无风化</td>\n    </tr>\n    <tr>\n      <th>14</th>\n      <td>C</td>\n      <td>高钾</td>\n      <td>深绿</td>\n      <td>无风化</td>\n    </tr>\n    <tr>\n      <th>15</th>\n      <td>C</td>\n      <td>高钾</td>\n      <td>浅蓝</td>\n      <td>无风化</td>\n    </tr>\n    <tr>\n      <th>16</th>\n      <td>C</td>\n      <td>高钾</td>\n      <td>浅蓝</td>\n      <td>无风化</td>\n    </tr>\n    <tr>\n      <th>17</th>\n      <td>C</td>\n      <td>高钾</td>\n      <td>浅蓝</td>\n      <td>无风化</td>\n    </tr>\n    <tr>\n      <th>18</th>\n      <td>A</td>\n      <td>铅钡</td>\n      <td>浅蓝</td>\n      <td>风化</td>\n    </tr>\n    <tr>\n      <th>19</th>\n      <td>A</td>\n      <td>铅钡</td>\n      <td>NaN</td>\n      <td>风化</td>\n    </tr>\n    <tr>\n      <th>20</th>\n      <td>A</td>\n      <td>铅钡</td>\n      <td>浅蓝</td>\n      <td>无风化</td>\n    </tr>\n    <tr>\n      <th>21</th>\n      <td>A</td>\n      <td>铅钡</td>\n      <td>蓝绿</td>\n      <td>风化</td>\n    </tr>\n    <tr>\n      <th>22</th>\n      <td>A</td>\n      <td>铅钡</td>\n      <td>浅蓝</td>\n      <td>风化</td>\n    </tr>\n    <tr>\n      <th>23</th>\n      <td>A</td>\n      <td>铅钡</td>\n      <td>浅蓝</td>\n      <td>风化</td>\n    </tr>\n    <tr>\n      <th>24</th>\n      <td>A</td>\n      <td>铅钡</td>\n      <td>深蓝</td>\n      <td>无风化</td>\n    </tr>\n    <tr>\n      <th>25</th>\n      <td>A</td>\n      <td>铅钡</td>\n      <td>浅蓝</td>\n      <td>风化</td>\n    </tr>\n    <tr>\n      <th>26</th>\n      <td>A</td>\n      <td>铅钡</td>\n      <td>浅蓝</td>\n      <td>风化</td>\n    </tr>\n    <tr>\n      <th>27</th>\n      <td>A</td>\n      <td>铅钡</td>\n      <td>浅蓝</td>\n      <td>无风化</td>\n    </tr>\n    <tr>\n      <th>28</th>\n      <td>A</td>\n      <td>铅钡</td>\n      <td>浅蓝</td>\n      <td>无风化</td>\n    </tr>\n    <tr>\n      <th>29</th>\n      <td>A</td>\n      <td>铅钡</td>\n      <td>浅蓝</td>\n      <td>无风化</td>\n    </tr>\n    <tr>\n      <th>30</th>\n      <td>A</td>\n      <td>铅钡</td>\n      <td>NaN</td>\n      <td>风化</td>\n    </tr>\n    <tr>\n      <th>31</th>\n      <td>A</td>\n      <td>铅钡</td>\n      <td>黑</td>\n      <td>风化</td>\n    </tr>\n    <tr>\n      <th>32</th>\n      <td>A</td>\n      <td>铅钡</td>\n      <td>黑</td>\n      <td>风化</td>\n    </tr>\n    <tr>\n      <th>33</th>\n      <td>A</td>\n      <td>铅钡</td>\n      <td>浅蓝</td>\n      <td>风化</td>\n    </tr>\n    <tr>\n      <th>34</th>\n      <td>C</td>\n      <td>铅钡</td>\n      <td>紫</td>\n      <td>风化</td>\n    </tr>\n    <tr>\n      <th>35</th>\n      <td>C</td>\n      <td>铅钡</td>\n      <td>浅蓝</td>\n      <td>风化</td>\n    </tr>\n    <tr>\n      <th>36</th>\n      <td>C</td>\n      <td>铅钡</td>\n      <td>紫</td>\n      <td>无风化</td>\n    </tr>\n    <tr>\n      <th>37</th>\n      <td>C</td>\n      <td>铅钡</td>\n      <td>浅蓝</td>\n      <td>风化</td>\n    </tr>\n    <tr>\n      <th>38</th>\n      <td>C</td>\n      <td>铅钡</td>\n      <td>紫</td>\n      <td>风化</td>\n    </tr>\n    <tr>\n      <th>39</th>\n      <td>C</td>\n      <td>铅钡</td>\n      <td>紫</td>\n      <td>无风化</td>\n    </tr>\n    <tr>\n      <th>40</th>\n      <td>C</td>\n      <td>铅钡</td>\n      <td>浅绿</td>\n      <td>无风化</td>\n    </tr>\n    <tr>\n      <th>41</th>\n      <td>C</td>\n      <td>铅钡</td>\n      <td>深绿</td>\n      <td>无风化</td>\n    </tr>\n    <tr>\n      <th>42</th>\n      <td>C</td>\n      <td>铅钡</td>\n      <td>深绿</td>\n      <td>风化</td>\n    </tr>\n    <tr>\n      <th>43</th>\n      <td>C</td>\n      <td>铅钡</td>\n      <td>浅绿</td>\n      <td>无风化</td>\n    </tr>\n    <tr>\n      <th>44</th>\n      <td>C</td>\n      <td>铅钡</td>\n      <td>深绿</td>\n      <td>风化</td>\n    </tr>\n    <tr>\n      <th>45</th>\n      <td>C</td>\n      <td>铅钡</td>\n      <td>深绿</td>\n      <td>无风化</td>\n    </tr>\n    <tr>\n      <th>46</th>\n      <td>C</td>\n      <td>铅钡</td>\n      <td>深绿</td>\n      <td>风化</td>\n    </tr>\n    <tr>\n      <th>47</th>\n      <td>C</td>\n      <td>铅钡</td>\n      <td>深绿</td>\n      <td>风化</td>\n    </tr>\n    <tr>\n      <th>48</th>\n      <td>C</td>\n      <td>铅钡</td>\n      <td>NaN</td>\n      <td>风化</td>\n    </tr>\n    <tr>\n      <th>49</th>\n      <td>C</td>\n      <td>铅钡</td>\n      <td>浅绿</td>\n      <td>风化</td>\n    </tr>\n    <tr>\n      <th>50</th>\n      <td>C</td>\n      <td>铅钡</td>\n      <td>浅蓝</td>\n      <td>风化</td>\n    </tr>\n    <tr>\n      <th>51</th>\n      <td>C</td>\n      <td>铅钡</td>\n      <td>浅蓝</td>\n      <td>风化</td>\n    </tr>\n    <tr>\n      <th>52</th>\n      <td>C</td>\n      <td>铅钡</td>\n      <td>浅蓝</td>\n      <td>风化</td>\n    </tr>\n    <tr>\n      <th>53</th>\n      <td>C</td>\n      <td>铅钡</td>\n      <td>浅蓝</td>\n      <td>风化</td>\n    </tr>\n    <tr>\n      <th>54</th>\n      <td>C</td>\n      <td>铅钡</td>\n      <td>绿</td>\n      <td>无风化</td>\n    </tr>\n    <tr>\n      <th>55</th>\n      <td>C</td>\n      <td>铅钡</td>\n      <td>蓝绿</td>\n      <td>风化</td>\n    </tr>\n    <tr>\n      <th>56</th>\n      <td>C</td>\n      <td>铅钡</td>\n      <td>蓝绿</td>\n      <td>风化</td>\n    </tr>\n    <tr>\n      <th>57</th>\n      <td>C</td>\n      <td>铅钡</td>\n      <td>NaN</td>\n      <td>风化</td>\n    </tr>\n  </tbody>\n</table>\n</div>"
     },
     "execution_count": 25,
     "metadata": {},
     "output_type": "execute_result"
    }
   ],
   "source": [
    "data = pd.read_excel(\"sheet1分类.xlsx\",header = 0,index_col = 0)\n",
    "data"
   ],
   "metadata": {
    "collapsed": false,
    "pycharm": {
     "name": "#%%\n"
    }
   }
  },
  {
   "cell_type": "code",
   "execution_count": 26,
   "outputs": [
    {
     "data": {
      "text/plain": "array([['A', '高钾', '蓝绿', '无风化'],\n       ['A', '高钾', '蓝绿', '无风化'],\n       ['A', '高钾', '蓝绿', '无风化'],\n       ['A', '高钾', '蓝绿', '无风化'],\n       ['A', '高钾', '深蓝', '无风化'],\n       ['A', '高钾', '蓝绿', '无风化'],\n       ['B', '高钾', '蓝绿', '风化'],\n       ['B', '高钾', '蓝绿', '风化'],\n       ['B', '高钾', '蓝绿', '风化'],\n       ['B', '高钾', '蓝绿', '风化'],\n       ['B', '高钾', '蓝绿', '风化'],\n       ['B', '高钾', '蓝绿', '风化'],\n       ['C', '高钾', '蓝绿', '无风化'],\n       ['C', '高钾', '浅蓝', '无风化'],\n       ['C', '高钾', '深绿', '无风化'],\n       ['C', '高钾', '浅蓝', '无风化'],\n       ['C', '高钾', '浅蓝', '无风化'],\n       ['C', '高钾', '浅蓝', '无风化'],\n       ['A', '铅钡', '浅蓝', '风化'],\n       ['A', '铅钡', nan, '风化'],\n       ['A', '铅钡', '浅蓝', '无风化'],\n       ['A', '铅钡', '蓝绿', '风化'],\n       ['A', '铅钡', '浅蓝', '风化'],\n       ['A', '铅钡', '浅蓝', '风化'],\n       ['A', '铅钡', '深蓝', '无风化'],\n       ['A', '铅钡', '浅蓝', '风化'],\n       ['A', '铅钡', '浅蓝', '风化'],\n       ['A', '铅钡', '浅蓝', '无风化'],\n       ['A', '铅钡', '浅蓝', '无风化'],\n       ['A', '铅钡', '浅蓝', '无风化'],\n       ['A', '铅钡', nan, '风化'],\n       ['A', '铅钡', '黑', '风化'],\n       ['A', '铅钡', '黑', '风化'],\n       ['A', '铅钡', '浅蓝', '风化'],\n       ['C', '铅钡', '紫', '风化'],\n       ['C', '铅钡', '浅蓝', '风化'],\n       ['C', '铅钡', '紫', '无风化'],\n       ['C', '铅钡', '浅蓝', '风化'],\n       ['C', '铅钡', '紫', '风化'],\n       ['C', '铅钡', '紫', '无风化'],\n       ['C', '铅钡', '浅绿', '无风化'],\n       ['C', '铅钡', '深绿', '无风化'],\n       ['C', '铅钡', '深绿', '风化'],\n       ['C', '铅钡', '浅绿', '无风化'],\n       ['C', '铅钡', '深绿', '风化'],\n       ['C', '铅钡', '深绿', '无风化'],\n       ['C', '铅钡', '深绿', '风化'],\n       ['C', '铅钡', '深绿', '风化'],\n       ['C', '铅钡', nan, '风化'],\n       ['C', '铅钡', '浅绿', '风化'],\n       ['C', '铅钡', '浅蓝', '风化'],\n       ['C', '铅钡', '浅蓝', '风化'],\n       ['C', '铅钡', '浅蓝', '风化'],\n       ['C', '铅钡', '浅蓝', '风化'],\n       ['C', '铅钡', '绿', '无风化'],\n       ['C', '铅钡', '蓝绿', '风化'],\n       ['C', '铅钡', '蓝绿', '风化'],\n       ['C', '铅钡', nan, '风化']], dtype=object)"
     },
     "execution_count": 26,
     "metadata": {},
     "output_type": "execute_result"
    }
   ],
   "source": [
    "data = data.values\n",
    "data"
   ],
   "metadata": {
    "collapsed": false,
    "pycharm": {
     "name": "#%%\n"
    }
   }
  },
  {
   "cell_type": "code",
   "execution_count": 27,
   "outputs": [
    {
     "data": {
      "text/plain": "[array(['A', '铅钡', '浅蓝', '风化'], dtype=object),\n array(['A', '铅钡', '浅蓝', '无风化'], dtype=object),\n array(['A', '铅钡', '浅蓝', '风化'], dtype=object),\n array(['A', '铅钡', '浅蓝', '风化'], dtype=object),\n array(['A', '铅钡', '浅蓝', '风化'], dtype=object),\n array(['A', '铅钡', '浅蓝', '风化'], dtype=object),\n array(['A', '铅钡', '浅蓝', '无风化'], dtype=object),\n array(['A', '铅钡', '浅蓝', '无风化'], dtype=object),\n array(['A', '铅钡', '浅蓝', '无风化'], dtype=object),\n array(['A', '铅钡', '浅蓝', '风化'], dtype=object)]"
     },
     "execution_count": 27,
     "metadata": {},
     "output_type": "execute_result"
    }
   ],
   "source": [
    "#对铅钡颜色进行分类\n",
    "D1 = []\n",
    "for i in range(len(data)):\n",
    "    if data[i,0] == 'A' and data[i,1] =='铅钡' and data[i,2] == '浅蓝' :\n",
    "        D1.append(data[i])\n",
    "D1"
   ],
   "metadata": {
    "collapsed": false,
    "pycharm": {
     "name": "#%%\n"
    }
   }
  },
  {
   "cell_type": "code",
   "execution_count": 28,
   "outputs": [
    {
     "data": {
      "text/plain": "[array(['A', '铅钡', '浅蓝', '风化'], dtype=object),\n array(['A', '铅钡', '浅蓝', '无风化'], dtype=object),\n array(['A', '铅钡', '浅蓝', '风化'], dtype=object),\n array(['A', '铅钡', '浅蓝', '风化'], dtype=object),\n array(['A', '铅钡', '浅蓝', '风化'], dtype=object),\n array(['A', '铅钡', '浅蓝', '风化'], dtype=object),\n array(['A', '铅钡', '浅蓝', '无风化'], dtype=object),\n array(['A', '铅钡', '浅蓝', '无风化'], dtype=object),\n array(['A', '铅钡', '浅蓝', '无风化'], dtype=object),\n array(['A', '铅钡', '浅蓝', '风化'], dtype=object),\n array(['A', '铅钡', '蓝绿', '风化'], dtype=object)]"
     },
     "execution_count": 28,
     "metadata": {},
     "output_type": "execute_result"
    }
   ],
   "source": [
    "for i in range(len(data)):\n",
    "    if data[i,0] == 'A' and data[i,1] =='铅钡' and data[i,2] == '蓝绿' :\n",
    "        D1.append(data[i])\n",
    "D1"
   ],
   "metadata": {
    "collapsed": false,
    "pycharm": {
     "name": "#%%\n"
    }
   }
  },
  {
   "cell_type": "code",
   "execution_count": 29,
   "outputs": [
    {
     "data": {
      "text/plain": "[array(['A', '铅钡', '浅蓝', '风化'], dtype=object),\n array(['A', '铅钡', '浅蓝', '无风化'], dtype=object),\n array(['A', '铅钡', '浅蓝', '风化'], dtype=object),\n array(['A', '铅钡', '浅蓝', '风化'], dtype=object),\n array(['A', '铅钡', '浅蓝', '风化'], dtype=object),\n array(['A', '铅钡', '浅蓝', '风化'], dtype=object),\n array(['A', '铅钡', '浅蓝', '无风化'], dtype=object),\n array(['A', '铅钡', '浅蓝', '无风化'], dtype=object),\n array(['A', '铅钡', '浅蓝', '无风化'], dtype=object),\n array(['A', '铅钡', '浅蓝', '风化'], dtype=object),\n array(['A', '铅钡', '蓝绿', '风化'], dtype=object),\n array(['A', '铅钡', '黑', '风化'], dtype=object),\n array(['A', '铅钡', '黑', '风化'], dtype=object)]"
     },
     "execution_count": 29,
     "metadata": {},
     "output_type": "execute_result"
    }
   ],
   "source": [
    "for i in range(len(data)):\n",
    "    if data[i,0] == 'A' and data[i,1] =='铅钡' and data[i,2] == '黑' :\n",
    "        D1.append(data[i])\n",
    "D1"
   ],
   "metadata": {
    "collapsed": false,
    "pycharm": {
     "name": "#%%\n"
    }
   }
  },
  {
   "cell_type": "code",
   "execution_count": 30,
   "outputs": [
    {
     "data": {
      "text/plain": "[array(['A', '铅钡', '浅蓝', '风化'], dtype=object),\n array(['A', '铅钡', '浅蓝', '无风化'], dtype=object),\n array(['A', '铅钡', '浅蓝', '风化'], dtype=object),\n array(['A', '铅钡', '浅蓝', '风化'], dtype=object),\n array(['A', '铅钡', '浅蓝', '风化'], dtype=object),\n array(['A', '铅钡', '浅蓝', '风化'], dtype=object),\n array(['A', '铅钡', '浅蓝', '无风化'], dtype=object),\n array(['A', '铅钡', '浅蓝', '无风化'], dtype=object),\n array(['A', '铅钡', '浅蓝', '无风化'], dtype=object),\n array(['A', '铅钡', '浅蓝', '风化'], dtype=object),\n array(['A', '铅钡', '蓝绿', '风化'], dtype=object),\n array(['A', '铅钡', '黑', '风化'], dtype=object),\n array(['A', '铅钡', '黑', '风化'], dtype=object),\n array(['C', '铅钡', '浅蓝', '风化'], dtype=object),\n array(['C', '铅钡', '浅蓝', '风化'], dtype=object),\n array(['C', '铅钡', '浅蓝', '风化'], dtype=object),\n array(['C', '铅钡', '浅蓝', '风化'], dtype=object),\n array(['C', '铅钡', '浅蓝', '风化'], dtype=object),\n array(['C', '铅钡', '浅蓝', '风化'], dtype=object)]"
     },
     "execution_count": 30,
     "metadata": {},
     "output_type": "execute_result"
    }
   ],
   "source": [
    "for i in range(len(data)):\n",
    "    if data[i,0] == 'C' and data[i,1] =='铅钡' and data[i,2] == '浅蓝' :\n",
    "        D1.append(data[i])\n",
    "D1"
   ],
   "metadata": {
    "collapsed": false,
    "pycharm": {
     "name": "#%%\n"
    }
   }
  },
  {
   "cell_type": "code",
   "execution_count": 31,
   "outputs": [
    {
     "data": {
      "text/plain": "[array(['A', '铅钡', '浅蓝', '风化'], dtype=object),\n array(['A', '铅钡', '浅蓝', '无风化'], dtype=object),\n array(['A', '铅钡', '浅蓝', '风化'], dtype=object),\n array(['A', '铅钡', '浅蓝', '风化'], dtype=object),\n array(['A', '铅钡', '浅蓝', '风化'], dtype=object),\n array(['A', '铅钡', '浅蓝', '风化'], dtype=object),\n array(['A', '铅钡', '浅蓝', '无风化'], dtype=object),\n array(['A', '铅钡', '浅蓝', '无风化'], dtype=object),\n array(['A', '铅钡', '浅蓝', '无风化'], dtype=object),\n array(['A', '铅钡', '浅蓝', '风化'], dtype=object),\n array(['A', '铅钡', '蓝绿', '风化'], dtype=object),\n array(['A', '铅钡', '黑', '风化'], dtype=object),\n array(['A', '铅钡', '黑', '风化'], dtype=object),\n array(['C', '铅钡', '浅蓝', '风化'], dtype=object),\n array(['C', '铅钡', '浅蓝', '风化'], dtype=object),\n array(['C', '铅钡', '浅蓝', '风化'], dtype=object),\n array(['C', '铅钡', '浅蓝', '风化'], dtype=object),\n array(['C', '铅钡', '浅蓝', '风化'], dtype=object),\n array(['C', '铅钡', '浅蓝', '风化'], dtype=object),\n array(['C', '铅钡', '蓝绿', '风化'], dtype=object),\n array(['C', '铅钡', '蓝绿', '风化'], dtype=object)]"
     },
     "execution_count": 31,
     "metadata": {},
     "output_type": "execute_result"
    }
   ],
   "source": [
    "for i in range(len(data)):\n",
    "    if data[i,0] == 'C' and data[i,1] =='铅钡' and data[i,2] == '蓝绿' :\n",
    "        D1.append(data[i])\n",
    "D1"
   ],
   "metadata": {
    "collapsed": false,
    "pycharm": {
     "name": "#%%\n"
    }
   }
  },
  {
   "cell_type": "code",
   "execution_count": 32,
   "outputs": [
    {
     "data": {
      "text/plain": "[array(['A', '铅钡', '浅蓝', '风化'], dtype=object),\n array(['A', '铅钡', '浅蓝', '无风化'], dtype=object),\n array(['A', '铅钡', '浅蓝', '风化'], dtype=object),\n array(['A', '铅钡', '浅蓝', '风化'], dtype=object),\n array(['A', '铅钡', '浅蓝', '风化'], dtype=object),\n array(['A', '铅钡', '浅蓝', '风化'], dtype=object),\n array(['A', '铅钡', '浅蓝', '无风化'], dtype=object),\n array(['A', '铅钡', '浅蓝', '无风化'], dtype=object),\n array(['A', '铅钡', '浅蓝', '无风化'], dtype=object),\n array(['A', '铅钡', '浅蓝', '风化'], dtype=object),\n array(['A', '铅钡', '蓝绿', '风化'], dtype=object),\n array(['A', '铅钡', '黑', '风化'], dtype=object),\n array(['A', '铅钡', '黑', '风化'], dtype=object),\n array(['C', '铅钡', '浅蓝', '风化'], dtype=object),\n array(['C', '铅钡', '浅蓝', '风化'], dtype=object),\n array(['C', '铅钡', '浅蓝', '风化'], dtype=object),\n array(['C', '铅钡', '浅蓝', '风化'], dtype=object),\n array(['C', '铅钡', '浅蓝', '风化'], dtype=object),\n array(['C', '铅钡', '浅蓝', '风化'], dtype=object),\n array(['C', '铅钡', '蓝绿', '风化'], dtype=object),\n array(['C', '铅钡', '蓝绿', '风化'], dtype=object),\n array(['C', '铅钡', '深绿', '无风化'], dtype=object),\n array(['C', '铅钡', '深绿', '风化'], dtype=object),\n array(['C', '铅钡', '深绿', '风化'], dtype=object),\n array(['C', '铅钡', '深绿', '无风化'], dtype=object),\n array(['C', '铅钡', '深绿', '风化'], dtype=object),\n array(['C', '铅钡', '深绿', '风化'], dtype=object)]"
     },
     "execution_count": 32,
     "metadata": {},
     "output_type": "execute_result"
    }
   ],
   "source": [
    "for i in range(len(data)):\n",
    "    if data[i,0] == 'C' and data[i,1] =='铅钡' and data[i,2] == '深绿' :\n",
    "        D1.append(data[i])\n",
    "D1"
   ],
   "metadata": {
    "collapsed": false,
    "pycharm": {
     "name": "#%%\n"
    }
   }
  },
  {
   "cell_type": "code",
   "execution_count": 33,
   "outputs": [
    {
     "data": {
      "text/plain": "[array(['A', '铅钡', '浅蓝', '风化'], dtype=object),\n array(['A', '铅钡', '浅蓝', '无风化'], dtype=object),\n array(['A', '铅钡', '浅蓝', '风化'], dtype=object),\n array(['A', '铅钡', '浅蓝', '风化'], dtype=object),\n array(['A', '铅钡', '浅蓝', '风化'], dtype=object),\n array(['A', '铅钡', '浅蓝', '风化'], dtype=object),\n array(['A', '铅钡', '浅蓝', '无风化'], dtype=object),\n array(['A', '铅钡', '浅蓝', '无风化'], dtype=object),\n array(['A', '铅钡', '浅蓝', '无风化'], dtype=object),\n array(['A', '铅钡', '浅蓝', '风化'], dtype=object),\n array(['A', '铅钡', '蓝绿', '风化'], dtype=object),\n array(['A', '铅钡', '黑', '风化'], dtype=object),\n array(['A', '铅钡', '黑', '风化'], dtype=object),\n array(['C', '铅钡', '浅蓝', '风化'], dtype=object),\n array(['C', '铅钡', '浅蓝', '风化'], dtype=object),\n array(['C', '铅钡', '浅蓝', '风化'], dtype=object),\n array(['C', '铅钡', '浅蓝', '风化'], dtype=object),\n array(['C', '铅钡', '浅蓝', '风化'], dtype=object),\n array(['C', '铅钡', '浅蓝', '风化'], dtype=object),\n array(['C', '铅钡', '蓝绿', '风化'], dtype=object),\n array(['C', '铅钡', '蓝绿', '风化'], dtype=object),\n array(['C', '铅钡', '深绿', '无风化'], dtype=object),\n array(['C', '铅钡', '深绿', '风化'], dtype=object),\n array(['C', '铅钡', '深绿', '风化'], dtype=object),\n array(['C', '铅钡', '深绿', '无风化'], dtype=object),\n array(['C', '铅钡', '深绿', '风化'], dtype=object),\n array(['C', '铅钡', '深绿', '风化'], dtype=object),\n array(['C', '铅钡', '绿', '无风化'], dtype=object)]"
     },
     "execution_count": 33,
     "metadata": {},
     "output_type": "execute_result"
    }
   ],
   "source": [
    "for i in range(len(data)):\n",
    "    if data[i,0] == 'C' and data[i,1] =='铅钡' and data[i,2] == '绿' :\n",
    "        D1.append(data[i])\n",
    "D1"
   ],
   "metadata": {
    "collapsed": false,
    "pycharm": {
     "name": "#%%\n"
    }
   }
  },
  {
   "cell_type": "code",
   "execution_count": 34,
   "outputs": [
    {
     "data": {
      "text/plain": "[array(['A', '铅钡', '浅蓝', '风化'], dtype=object),\n array(['A', '铅钡', '浅蓝', '无风化'], dtype=object),\n array(['A', '铅钡', '浅蓝', '风化'], dtype=object),\n array(['A', '铅钡', '浅蓝', '风化'], dtype=object),\n array(['A', '铅钡', '浅蓝', '风化'], dtype=object),\n array(['A', '铅钡', '浅蓝', '风化'], dtype=object),\n array(['A', '铅钡', '浅蓝', '无风化'], dtype=object),\n array(['A', '铅钡', '浅蓝', '无风化'], dtype=object),\n array(['A', '铅钡', '浅蓝', '无风化'], dtype=object),\n array(['A', '铅钡', '浅蓝', '风化'], dtype=object),\n array(['A', '铅钡', '蓝绿', '风化'], dtype=object),\n array(['A', '铅钡', '黑', '风化'], dtype=object),\n array(['A', '铅钡', '黑', '风化'], dtype=object),\n array(['C', '铅钡', '浅蓝', '风化'], dtype=object),\n array(['C', '铅钡', '浅蓝', '风化'], dtype=object),\n array(['C', '铅钡', '浅蓝', '风化'], dtype=object),\n array(['C', '铅钡', '浅蓝', '风化'], dtype=object),\n array(['C', '铅钡', '浅蓝', '风化'], dtype=object),\n array(['C', '铅钡', '浅蓝', '风化'], dtype=object),\n array(['C', '铅钡', '蓝绿', '风化'], dtype=object),\n array(['C', '铅钡', '蓝绿', '风化'], dtype=object),\n array(['C', '铅钡', '深绿', '无风化'], dtype=object),\n array(['C', '铅钡', '深绿', '风化'], dtype=object),\n array(['C', '铅钡', '深绿', '风化'], dtype=object),\n array(['C', '铅钡', '深绿', '无风化'], dtype=object),\n array(['C', '铅钡', '深绿', '风化'], dtype=object),\n array(['C', '铅钡', '深绿', '风化'], dtype=object),\n array(['C', '铅钡', '绿', '无风化'], dtype=object),\n array(['C', '铅钡', '紫', '风化'], dtype=object),\n array(['C', '铅钡', '紫', '无风化'], dtype=object),\n array(['C', '铅钡', '紫', '风化'], dtype=object),\n array(['C', '铅钡', '紫', '无风化'], dtype=object)]"
     },
     "execution_count": 34,
     "metadata": {},
     "output_type": "execute_result"
    }
   ],
   "source": [
    "for i in range(len(data)):\n",
    "    if data[i,0] == 'C' and data[i,1] =='铅钡' and data[i,2] == '紫' :\n",
    "        D1.append(data[i])\n",
    "D1"
   ],
   "metadata": {
    "collapsed": false,
    "pycharm": {
     "name": "#%%\n"
    }
   }
  },
  {
   "cell_type": "code",
   "execution_count": 35,
   "outputs": [
    {
     "data": {
      "text/plain": "array([['A', '铅钡', '浅蓝', '风化'],\n       ['A', '铅钡', '浅蓝', '无风化'],\n       ['A', '铅钡', '浅蓝', '风化'],\n       ['A', '铅钡', '浅蓝', '风化'],\n       ['A', '铅钡', '浅蓝', '风化'],\n       ['A', '铅钡', '浅蓝', '风化'],\n       ['A', '铅钡', '浅蓝', '无风化'],\n       ['A', '铅钡', '浅蓝', '无风化'],\n       ['A', '铅钡', '浅蓝', '无风化'],\n       ['A', '铅钡', '浅蓝', '风化'],\n       ['A', '铅钡', '蓝绿', '风化'],\n       ['A', '铅钡', '黑', '风化'],\n       ['A', '铅钡', '黑', '风化'],\n       ['C', '铅钡', '浅蓝', '风化'],\n       ['C', '铅钡', '浅蓝', '风化'],\n       ['C', '铅钡', '浅蓝', '风化'],\n       ['C', '铅钡', '浅蓝', '风化'],\n       ['C', '铅钡', '浅蓝', '风化'],\n       ['C', '铅钡', '浅蓝', '风化'],\n       ['C', '铅钡', '蓝绿', '风化'],\n       ['C', '铅钡', '蓝绿', '风化'],\n       ['C', '铅钡', '深绿', '无风化'],\n       ['C', '铅钡', '深绿', '风化'],\n       ['C', '铅钡', '深绿', '风化'],\n       ['C', '铅钡', '深绿', '无风化'],\n       ['C', '铅钡', '深绿', '风化'],\n       ['C', '铅钡', '深绿', '风化'],\n       ['C', '铅钡', '绿', '无风化'],\n       ['C', '铅钡', '紫', '风化'],\n       ['C', '铅钡', '紫', '无风化'],\n       ['C', '铅钡', '紫', '风化'],\n       ['C', '铅钡', '紫', '无风化']], dtype=object)"
     },
     "execution_count": 35,
     "metadata": {},
     "output_type": "execute_result"
    }
   ],
   "source": [
    "data2 = np.array(D1)\n",
    "data2"
   ],
   "metadata": {
    "collapsed": false,
    "pycharm": {
     "name": "#%%\n"
    }
   }
  },
  {
   "cell_type": "code",
   "execution_count": 36,
   "outputs": [
    {
     "data": {
      "text/plain": "    0   1   2    3\n0   A  铅钡  浅蓝   风化\n1   A  铅钡  浅蓝  无风化\n2   A  铅钡  浅蓝   风化\n3   A  铅钡  浅蓝   风化\n4   A  铅钡  浅蓝   风化\n5   A  铅钡  浅蓝   风化\n6   A  铅钡  浅蓝  无风化\n7   A  铅钡  浅蓝  无风化\n8   A  铅钡  浅蓝  无风化\n9   A  铅钡  浅蓝   风化\n10  A  铅钡  蓝绿   风化\n11  A  铅钡   黑   风化\n12  A  铅钡   黑   风化\n13  C  铅钡  浅蓝   风化\n14  C  铅钡  浅蓝   风化\n15  C  铅钡  浅蓝   风化\n16  C  铅钡  浅蓝   风化\n17  C  铅钡  浅蓝   风化\n18  C  铅钡  浅蓝   风化\n19  C  铅钡  蓝绿   风化\n20  C  铅钡  蓝绿   风化\n21  C  铅钡  深绿  无风化\n22  C  铅钡  深绿   风化\n23  C  铅钡  深绿   风化\n24  C  铅钡  深绿  无风化\n25  C  铅钡  深绿   风化\n26  C  铅钡  深绿   风化\n27  C  铅钡   绿  无风化\n28  C  铅钡   紫   风化\n29  C  铅钡   紫  无风化\n30  C  铅钡   紫   风化\n31  C  铅钡   紫  无风化",
      "text/html": "<div>\n<style scoped>\n    .dataframe tbody tr th:only-of-type {\n        vertical-align: middle;\n    }\n\n    .dataframe tbody tr th {\n        vertical-align: top;\n    }\n\n    .dataframe thead th {\n        text-align: right;\n    }\n</style>\n<table border=\"1\" class=\"dataframe\">\n  <thead>\n    <tr style=\"text-align: right;\">\n      <th></th>\n      <th>0</th>\n      <th>1</th>\n      <th>2</th>\n      <th>3</th>\n    </tr>\n  </thead>\n  <tbody>\n    <tr>\n      <th>0</th>\n      <td>A</td>\n      <td>铅钡</td>\n      <td>浅蓝</td>\n      <td>风化</td>\n    </tr>\n    <tr>\n      <th>1</th>\n      <td>A</td>\n      <td>铅钡</td>\n      <td>浅蓝</td>\n      <td>无风化</td>\n    </tr>\n    <tr>\n      <th>2</th>\n      <td>A</td>\n      <td>铅钡</td>\n      <td>浅蓝</td>\n      <td>风化</td>\n    </tr>\n    <tr>\n      <th>3</th>\n      <td>A</td>\n      <td>铅钡</td>\n      <td>浅蓝</td>\n      <td>风化</td>\n    </tr>\n    <tr>\n      <th>4</th>\n      <td>A</td>\n      <td>铅钡</td>\n      <td>浅蓝</td>\n      <td>风化</td>\n    </tr>\n    <tr>\n      <th>5</th>\n      <td>A</td>\n      <td>铅钡</td>\n      <td>浅蓝</td>\n      <td>风化</td>\n    </tr>\n    <tr>\n      <th>6</th>\n      <td>A</td>\n      <td>铅钡</td>\n      <td>浅蓝</td>\n      <td>无风化</td>\n    </tr>\n    <tr>\n      <th>7</th>\n      <td>A</td>\n      <td>铅钡</td>\n      <td>浅蓝</td>\n      <td>无风化</td>\n    </tr>\n    <tr>\n      <th>8</th>\n      <td>A</td>\n      <td>铅钡</td>\n      <td>浅蓝</td>\n      <td>无风化</td>\n    </tr>\n    <tr>\n      <th>9</th>\n      <td>A</td>\n      <td>铅钡</td>\n      <td>浅蓝</td>\n      <td>风化</td>\n    </tr>\n    <tr>\n      <th>10</th>\n      <td>A</td>\n      <td>铅钡</td>\n      <td>蓝绿</td>\n      <td>风化</td>\n    </tr>\n    <tr>\n      <th>11</th>\n      <td>A</td>\n      <td>铅钡</td>\n      <td>黑</td>\n      <td>风化</td>\n    </tr>\n    <tr>\n      <th>12</th>\n      <td>A</td>\n      <td>铅钡</td>\n      <td>黑</td>\n      <td>风化</td>\n    </tr>\n    <tr>\n      <th>13</th>\n      <td>C</td>\n      <td>铅钡</td>\n      <td>浅蓝</td>\n      <td>风化</td>\n    </tr>\n    <tr>\n      <th>14</th>\n      <td>C</td>\n      <td>铅钡</td>\n      <td>浅蓝</td>\n      <td>风化</td>\n    </tr>\n    <tr>\n      <th>15</th>\n      <td>C</td>\n      <td>铅钡</td>\n      <td>浅蓝</td>\n      <td>风化</td>\n    </tr>\n    <tr>\n      <th>16</th>\n      <td>C</td>\n      <td>铅钡</td>\n      <td>浅蓝</td>\n      <td>风化</td>\n    </tr>\n    <tr>\n      <th>17</th>\n      <td>C</td>\n      <td>铅钡</td>\n      <td>浅蓝</td>\n      <td>风化</td>\n    </tr>\n    <tr>\n      <th>18</th>\n      <td>C</td>\n      <td>铅钡</td>\n      <td>浅蓝</td>\n      <td>风化</td>\n    </tr>\n    <tr>\n      <th>19</th>\n      <td>C</td>\n      <td>铅钡</td>\n      <td>蓝绿</td>\n      <td>风化</td>\n    </tr>\n    <tr>\n      <th>20</th>\n      <td>C</td>\n      <td>铅钡</td>\n      <td>蓝绿</td>\n      <td>风化</td>\n    </tr>\n    <tr>\n      <th>21</th>\n      <td>C</td>\n      <td>铅钡</td>\n      <td>深绿</td>\n      <td>无风化</td>\n    </tr>\n    <tr>\n      <th>22</th>\n      <td>C</td>\n      <td>铅钡</td>\n      <td>深绿</td>\n      <td>风化</td>\n    </tr>\n    <tr>\n      <th>23</th>\n      <td>C</td>\n      <td>铅钡</td>\n      <td>深绿</td>\n      <td>风化</td>\n    </tr>\n    <tr>\n      <th>24</th>\n      <td>C</td>\n      <td>铅钡</td>\n      <td>深绿</td>\n      <td>无风化</td>\n    </tr>\n    <tr>\n      <th>25</th>\n      <td>C</td>\n      <td>铅钡</td>\n      <td>深绿</td>\n      <td>风化</td>\n    </tr>\n    <tr>\n      <th>26</th>\n      <td>C</td>\n      <td>铅钡</td>\n      <td>深绿</td>\n      <td>风化</td>\n    </tr>\n    <tr>\n      <th>27</th>\n      <td>C</td>\n      <td>铅钡</td>\n      <td>绿</td>\n      <td>无风化</td>\n    </tr>\n    <tr>\n      <th>28</th>\n      <td>C</td>\n      <td>铅钡</td>\n      <td>紫</td>\n      <td>风化</td>\n    </tr>\n    <tr>\n      <th>29</th>\n      <td>C</td>\n      <td>铅钡</td>\n      <td>紫</td>\n      <td>无风化</td>\n    </tr>\n    <tr>\n      <th>30</th>\n      <td>C</td>\n      <td>铅钡</td>\n      <td>紫</td>\n      <td>风化</td>\n    </tr>\n    <tr>\n      <th>31</th>\n      <td>C</td>\n      <td>铅钡</td>\n      <td>紫</td>\n      <td>无风化</td>\n    </tr>\n  </tbody>\n</table>\n</div>"
     },
     "execution_count": 36,
     "metadata": {},
     "output_type": "execute_result"
    }
   ],
   "source": [
    "data2 = pd.DataFrame(data2)\n",
    "data2"
   ],
   "metadata": {
    "collapsed": false,
    "pycharm": {
     "name": "#%%\n"
    }
   }
  },
  {
   "cell_type": "code",
   "execution_count": 1,
   "outputs": [
    {
     "data": {
      "text/plain": "0.034482758620689655"
     },
     "execution_count": 1,
     "metadata": {},
     "output_type": "execute_result"
    }
   ],
   "source": [
    "1/29"
   ],
   "metadata": {
    "collapsed": false,
    "pycharm": {
     "name": "#%%\n"
    }
   }
  },
  {
   "cell_type": "code",
   "execution_count": 37,
   "outputs": [],
   "source": [
    "data2.to_excel('sheet1对铅钡单独分类.xlsx')"
   ],
   "metadata": {
    "collapsed": false,
    "pycharm": {
     "name": "#%%\n"
    }
   }
  },
  {
   "cell_type": "code",
   "execution_count": 37,
   "outputs": [],
   "source": [],
   "metadata": {
    "collapsed": false,
    "pycharm": {
     "name": "#%%\n"
    }
   }
  }
 ],
 "metadata": {
  "kernelspec": {
   "display_name": "Python 3",
   "language": "python",
   "name": "python3"
  },
  "language_info": {
   "codemirror_mode": {
    "name": "ipython",
    "version": 2
   },
   "file_extension": ".py",
   "mimetype": "text/x-python",
   "name": "python",
   "nbconvert_exporter": "python",
   "pygments_lexer": "ipython2",
   "version": "2.7.6"
  }
 },
 "nbformat": 4,
 "nbformat_minor": 0
}